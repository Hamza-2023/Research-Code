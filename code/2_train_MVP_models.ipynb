{
 "cells": [
  {
   "cell_type": "code",
   "execution_count": 1,
   "metadata": {},
   "outputs": [
    {
     "name": "stderr",
     "output_type": "stream",
     "text": [
      "Using TensorFlow backend.\n"
     ]
    },
    {
     "name": "stdout",
     "output_type": "stream",
     "text": [
      "this is a version 46 features in total, no RVIS no mis_badness !\n"
     ]
    }
   ],
   "source": [
    "import pandas as pd\n",
    "import numpy as np\n",
    "\n",
    "from models import CNN_Model"
   ]
  },
  {
   "cell_type": "code",
   "execution_count": 2,
   "metadata": {
    "collapsed": true
   },
   "outputs": [],
   "source": [
    "# combine files for training  \n",
    "\n",
    "prefix = 'HIS' \n",
    "\n",
    "loc1 = '/home/local/ARCS/hq2130/missense/data/training/'\n",
    "loc2 = '/home/local/ARCS/hq2130/missense/data/metaSVM/'\n",
    "files = [loc1 + 'HGMD_DM_missense_norecceive.rare.'+prefix+'.reformat.csv',\n",
    "         loc2 + 'metaSVM_train.anno.rare.'+prefix+'.reformat.csv',\n",
    "         loc1 + 'CADD_neg_train.anno.rare.'+prefix+'.reformat.csv',\n",
    "         loc1 + 'clinvar_pathogenic_1-4star.rare.'+prefix+'.reformat.csv',  \n",
    "         loc1 + 'DiscovEHR_missense_sel.rare.'+prefix+'.reformat.csv']\n",
    "\n",
    "df_list = []\n",
    "for f_train in files:\n",
    "    df = pd.read_csv(f_train)\n",
    "    df_list.append(df)\n",
    "df_combined = pd.concat(df_list, axis=0, ignore_index=True)\n",
    "\n",
    "with open('../data/training/exclude_in_testing.txt') as f:\n",
    "    exclude = set(line.strip() for line in f.readlines())\n",
    "df_combined = df_combined[~df_combined.var_id.isin(exclude)]\n",
    "\n",
    "\n",
    "# remove duplicates and overlapping variants \n",
    "df_combined = df_combined.drop_duplicates(subset='var_id', keep='first')\n",
    "pos = df_combined[df_combined.target==1]\n",
    "neg = df_combined[df_combined.target==0]\n",
    "var_pos = set(pos.var_id)\n",
    "var_neg = set(neg.var_id)\n",
    "pos = pos[~pos.var_id.isin(var_neg)]\n",
    "neg = neg[~neg.var_id.isin(var_pos)]\n",
    "df = pd.concat([pos, neg], axis=0, ignore_index=True)\n",
    "df.to_csv('../data/input_data.' + prefix + '.csv', index=False)"
   ]
  },
  {
   "cell_type": "code",
   "execution_count": null,
   "metadata": {
    "collapsed": true,
    "scrolled": false
   },
   "outputs": [],
   "source": [
    "weights_path = None\n",
    "exclude_cols = {'var_id', 'aaref', 'aaalt', 'target', 'Ensembl_transcriptid',\n",
    "                'ref', 'alt', 'category',\n",
    "                'source', 'INFO', 'disease', 'genename',\n",
    "                '#chr', 'pos(1-based)',  'hg19_chr', 'hg19_pos(1-based)',\n",
    "                'CADD_phred', '1000Gp3_AF', 'ExAC_AF', 'gnomad',\n",
    "                'RVIS', 'mis_badness', 'MPC', 'REVEL', 'domino'}\n",
    "\n",
    "model = CNN_Model_Mode(weights_path=weights_path,\n",
    "                       exclude_cols=exclude_cols,\n",
    "                       train_flag=True,\n",
    "                       verbose=2,\n",
    "                       nb_epoch=40,\n",
    "                       batch_size=64,\n",
    "                       name='res_' + prefix,\n",
    "                       fname='../data/input_data.' + prefix + '.csv',\n",
    "                       f_out='../data/output/output_data_mode5.csv')\n",
    "\n",
    "\n",
    "model.train(sub_sample=3)"
   ]
  }
 ],
 "metadata": {
  "kernelspec": {
   "display_name": "Python 2",
   "language": "python",
   "name": "python2"
  },
  "language_info": {
   "codemirror_mode": {
    "name": "ipython",
    "version": 2
   },
   "file_extension": ".py",
   "mimetype": "text/x-python",
   "name": "python",
   "nbconvert_exporter": "python",
   "pygments_lexer": "ipython2",
   "version": "2.7.14"
  }
 },
 "nbformat": 4,
 "nbformat_minor": 2
}
