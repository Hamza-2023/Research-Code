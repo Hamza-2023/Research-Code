{
 "cells": [
  {
   "cell_type": "code",
   "execution_count": 2,
   "metadata": {},
   "outputs": [
    {
     "name": "stderr",
     "output_type": "stream",
     "text": [
      "Using TensorFlow backend.\n"
     ]
    },
    {
     "name": "stdout",
     "output_type": "stream",
     "text": [
      "this is a version 46 features in total, no RVIS no mis_badness !\n"
     ]
    }
   ],
   "source": [
    "import csv\n",
    "import os\n",
    "import numpy as np\n",
    "import pandas as pd\n",
    "import pysam\n",
    "from collections import defaultdict\n",
    "from models import CNN_Model"
   ]
  },
  {
   "cell_type": "markdown",
   "metadata": {},
   "source": [
    "# split the file"
   ]
  },
  {
   "cell_type": "code",
   "execution_count": 5,
   "metadata": {
    "collapsed": true
   },
   "outputs": [],
   "source": [
    "# split the files into HS and HIS\n",
    "\n",
    "pli = np.load('../data/gene/pli.npy').item()\n",
    "HS_gene = set(gene for gene, pli_score in pli.iteritems() if pli_score < 0.5)\n",
    "HIS_gene = set(gene for gene, pli_score in pli.iteritems() if pli_score >= 0.5)\n",
    "\n",
    "fname = '/data/hq2130/large_files/rare_missense_id.anno.rare.All.reformat.csv'\n",
    "f1 = '/data/hq2130/large_files/rare_missense_id.anno.rare.HIS.reformat.csv'\n",
    "f2 = '/data/hq2130/large_files/rare_missense_id.anno.rare.HS.reformat.csv'\n",
    "f3 = '/data/hq2130/large_files/rare_missense_id.anno.rare.nopli.reformat.csv'\n",
    "with open(fname, 'rU') as f:\n",
    "    r = csv.reader(f)\n",
    "    head = r.next()\n",
    "\n",
    "    fw1 = open(f1, 'wb')\n",
    "    w1 = csv.writer(fw1)\n",
    "    w1.writerow(head)\n",
    "\n",
    "    fw2 = open(f2, 'wb')\n",
    "    w2 = csv.writer(fw2)\n",
    "    w2.writerow(head)\n",
    "\n",
    "    fw3 = open(f3, 'wb')\n",
    "    w3 = csv.writer(fw3)\n",
    "    w3.writerow(head)\n",
    "\n",
    "    for line in r:\n",
    "        variant = dict(zip(head, line))\n",
    "        if variant['genename'] in HIS_gene:\n",
    "            w1.writerow(line)\n",
    "        elif variant['genename'] in HS_gene:\n",
    "            w2.writerow(line)\n",
    "        else:\n",
    "            w3.writerow(line)\n",
    "\n",
    "    fw1.close()\n",
    "    fw2.close()\n",
    "    fw3.close()"
   ]
  },
  {
   "cell_type": "code",
   "execution_count": 7,
   "metadata": {
    "collapsed": true
   },
   "outputs": [],
   "source": [
    "# split the files\n",
    "files = [f1, f2, f3]\n",
    "for fname in files:\n",
    "    idx, lines_per_file, count = 0, 1350000, 0\n",
    "    with open(fname, 'rU') as f:\n",
    "        r = csv.reader(f)\n",
    "        head = r.next()\n",
    "        for line in r:\n",
    "            if count == 0:\n",
    "                outname = fname.split('.csv')[0] + '_idx_' + str(idx) + '.csv'\n",
    "                fw = open(outname, 'wb')\n",
    "                w = csv.writer(fw)\n",
    "                w.writerow(head)\n",
    "                w.writerow(line)\n",
    "                count += 1\n",
    "            else:\n",
    "                count += 1\n",
    "                w.writerow(line)\n",
    "                if count > lines_per_file:\n",
    "                    fw.close()\n",
    "                    idx += 1\n",
    "                    count = 0\n",
    "        fw.close()"
   ]
  },
  {
   "cell_type": "markdown",
   "metadata": {},
   "source": [
    "# add MVP annotation"
   ]
  },
  {
   "cell_type": "code",
   "execution_count": null,
   "metadata": {
    "scrolled": true
   },
   "outputs": [],
   "source": [
    "# HIS prediction\n",
    "prefix = 'HIS.'\n",
    "\n",
    "# weight used for MVP model\n",
    "weights_path = '../models/res_HIS_best_weight.hdf5'\n",
    "exclude_cols = {'var_id', 'aaref', 'aaalt', 'target', 'Ensembl_transcriptid',\n",
    "                'ref', 'alt', 'category',\n",
    "                'source', 'INFO', 'disease', 'genename',\n",
    "                '#chr', 'pos(1-based)',  'hg19_chr', 'hg19_pos(1-based)',\n",
    "                'CADD_phred', '1000Gp3_AF', 'ExAC_AF', 'gnomad',\n",
    "                'RVIS', 'mis_badness', 'MPC', 'REVEL', 'domino'}\n",
    "\n",
    "dir_all = '/data/hq2130/large_files/'\n",
    "fins = []\n",
    "for fname in os.listdir(dir_all):\n",
    "    if fname.startswith('rare_missense_id.anno.rare.HIS.reformat_idx') and 'cnn' not in fname:\n",
    "        fins.append(dir_all + fname)\n",
    "\n",
    "\n",
    "fouts = [f.split('.csv')[0] + '.cnn.csv' for f in fins]\n",
    "\n",
    "for fin, fout in zip(fins, fouts):\n",
    "    model = CNN_Model_Mode(weights_path=weights_path,\n",
    "                           exclude_cols=exclude_cols,\n",
    "                           train_flag=False,\n",
    "                           verbose=0,\n",
    "                           fname=fin,\n",
    "                           f_out=fout)\n",
    "    model.pred(get_last_layer=get_last_layer, layer_index=layer_index)"
   ]
  },
  {
   "cell_type": "markdown",
   "metadata": {},
   "source": [
    "# rank calculation"
   ]
  },
  {
   "cell_type": "code",
   "execution_count": 14,
   "metadata": {
    "collapsed": true
   },
   "outputs": [],
   "source": [
    "# generate per variant info file\n",
    "dir_all = '/data/hq2130/large_files/'\n",
    "bg_file = dir_all + 'All_rare_missense_best0208.txt'\n",
    "with open(bg_file, 'w') as fw:\n",
    "    head = ['CHROM', 'POS', 'REF', 'ALT', 'aaref', 'aaalt', 'genename',\n",
    "            'Ensembl_transcriptid', 'pli', 'ExAC_AF', 'gnomad_exome',\n",
    "            'CADD', 'REVEL', 'MPC', 'M-CAP_rankscore', 'MetaSVM_rankscore',\n",
    "            'VEST3_rankscore', 'MVP_score']\n",
    "    fw.write('\\t'.join(head) + '\\n')\n",
    "    for fname in os.listdir(dir_all):\n",
    "        # this concatenate both his and hs into the all rare missense\n",
    "        if 'cnn' in fname and 'rare_missense_id' in fname:\n",
    "            with open(dir_all + fname, 'rU') as f:\n",
    "                r = csv.reader(f)\n",
    "                head = r.next()\n",
    "                for line in r:\n",
    "                    variant = dict(zip(head, line))\n",
    "\n",
    "                    # some variants with MPC of NA 12:104742193\n",
    "                    if variant.get('MPC', '-1') == '':\n",
    "                        variant['MPC'] = '-1'\n",
    "\n",
    "                    info = [variant['hg19_chr'],\n",
    "                            variant['hg19_pos(1-based)'],\n",
    "                            variant['ref'],\n",
    "                            variant['alt'],\n",
    "                            variant['aaref'],\n",
    "                            variant['aaalt'],\n",
    "                            variant['genename'],\n",
    "                            variant['Ensembl_transcriptid'],\n",
    "                            variant['pli'],\n",
    "                            variant['ExAC_AF'],\n",
    "                            variant['gnomad_exome'],\n",
    "                            variant.get('CADD_phred', '-1'),\n",
    "                            variant.get('REVEL', '-1'),\n",
    "                            variant.get('MPC', '-1'),\n",
    "                            variant.get('M-CAP_rankscore', '-1'),\n",
    "                            variant.get('MetaSVM_rankscore', '-1'),\n",
    "                            variant.get('VEST3_rankscore', '-1'),\n",
    "                            variant.get('cnn_prob', '-1')]\n",
    "                    fw.write('\\t'.join(info) + '\\n')"
   ]
  },
  {
   "cell_type": "markdown",
   "metadata": {},
   "source": [
    "# rank in each method "
   ]
  },
  {
   "cell_type": "code",
   "execution_count": 3,
   "metadata": {
    "collapsed": true
   },
   "outputs": [],
   "source": [
    "pli = np.load('../data/gene/pli.npy').item()\n",
    "HIS_gene = set(gene for gene, pli_score in pli.iteritems() if pli_score >= 0.5)"
   ]
  },
  {
   "cell_type": "code",
   "execution_count": 7,
   "metadata": {
    "collapsed": true
   },
   "outputs": [],
   "source": [
    "def count2rank(score2count):\n",
    "    # # higher value means top rank, set missing value(-1) to be rank 1\n",
    "    score2rank = {'CADD': {-1: 0.0},\n",
    "                  'REVEL': {-1: 0.0},\n",
    "                  'MPC': {-1: 0.0},\n",
    "                  'M-CAP_rankscore': {-1: 0.0},\n",
    "                  'MetaSVM_rankscore': {-1: 0.0},\n",
    "                  'VEST3_rankscore': {-1: 0.0},\n",
    "                  'MVP_score': {-1: 0.0}}\n",
    "    for method in score2count:\n",
    "        total = float(sum(score2count[method].values()))\n",
    "        cur_total = 0\n",
    "        scores = sorted(score2count[method].keys())\n",
    "        for score in scores:\n",
    "            cur_total += score2count[method][score]\n",
    "            score2rank[method][score] = cur_total / total\n",
    "    return score2rank"
   ]
  },
  {
   "cell_type": "code",
   "execution_count": 8,
   "metadata": {
    "collapsed": true,
    "scrolled": true
   },
   "outputs": [],
   "source": [
    "# canonical only?\n",
    "# add rank here, choose 5 dight, based on counts to rank\n",
    "with open('/data/hq2130/large_files/All_rare_missense_best0208.txt') as f:\n",
    "    head = f.readline().strip().split()\n",
    "\n",
    "    score2count_HIS = {'CADD': defaultdict(lambda: 0),\n",
    "                       'REVEL': defaultdict(lambda: 0),\n",
    "                       'MPC': defaultdict(lambda: 0),\n",
    "                       'M-CAP_rankscore': defaultdict(lambda: 0),\n",
    "                       'MetaSVM_rankscore': defaultdict(lambda: 0),\n",
    "                       'VEST3_rankscore': defaultdict(lambda: 0),\n",
    "                       'MVP_score': defaultdict(lambda: 0)}\n",
    "\n",
    "    score2count_HS = {'CADD': defaultdict(lambda: 0),\n",
    "                       'REVEL': defaultdict(lambda: 0),\n",
    "                       'MPC': defaultdict(lambda: 0),\n",
    "                       'M-CAP_rankscore': defaultdict(lambda: 0),\n",
    "                       'MetaSVM_rankscore': defaultdict(lambda: 0),\n",
    "                       'VEST3_rankscore': defaultdict(lambda: 0),\n",
    "                       'MVP_score': defaultdict(lambda: 0)}\n",
    "\n",
    "    methods = ['CADD', 'REVEL', 'MPC', 'M-CAP_rankscore','MetaSVM_rankscore',\n",
    "               'VEST3_rankscore',  'MVP_score']\n",
    "    for line in f:\n",
    "        info = dict(zip(head, line.strip().split()))\n",
    "        for method in methods:\n",
    "            score = round(float(info[method]), 5)\n",
    "            if score != -1:  # missing score not included in rank calc\n",
    "                if info['genename'] in HIS_gene:\n",
    "                    score2count_HIS[method][score] += 1\n",
    "                else:\n",
    "                    score2count_HS[method][score] += 1\n",
    "\n",
    "\n",
    "score2rank_HIS = count2rank(score2count_HIS)\n",
    "score2rank_HS = count2rank(score2count_HS)\n",
    "np.save('/data/hq2130/large_files/score2rank_HIS_1pct', score2rank_HIS)\n",
    "np.save('/data/hq2130/large_files/score2rank_HS_1pct', score2rank_HS)"
   ]
  },
  {
   "cell_type": "code",
   "execution_count": 10,
   "metadata": {
    "collapsed": true
   },
   "outputs": [],
   "source": [
    "with open('/data/hq2130/large_files/All_rare_missense_best0208.txt') as f, open('/data/hq2130/large_files/MVP_scores.txt', 'w') as fw:\n",
    "    head = f.readline().strip().split()\n",
    "    new_head = ['#CHROM', 'POS', 'REF', 'ALT', 'aaref', 'aaalt', 'GeneSymbol',\n",
    "                'Ensembl_transcriptid', 'MVP_score', 'MVP_rank']\n",
    "    fw.write('\\t'.join(new_head) + '\\n')\n",
    "\n",
    "    for line in f:\n",
    "        info = dict(zip(head, line.strip().split()))\n",
    "        gene = info['genename']\n",
    "        mvp_score = round(float(info['MVP_score']), 5)\n",
    "        if gene in HIS_gene:\n",
    "            mvp_rank = score2rank_HIS['MVP_score'][mvp_score]\n",
    "        else:\n",
    "            mvp_rank = score2rank_HS['MVP_score'][mvp_score]\n",
    "        new_line = [info['CHROM'],\n",
    "                    info['POS'],\n",
    "                    info['REF'],\n",
    "                    info['ALT'],\n",
    "                    info['aaref'],\n",
    "                    info['aaalt'],\n",
    "                    info['genename'],\n",
    "                    info['Ensembl_transcriptid'],\n",
    "                    info['MVP_score'],\n",
    "                    str(mvp_rank)]\n",
    "        fw.write('\\t'.join(new_line) + '\\n')"
   ]
  },
  {
   "cell_type": "code",
   "execution_count": null,
   "metadata": {
    "collapsed": true
   },
   "outputs": [],
   "source": [
    "%% bash\n",
    "sort -k1,1V - k2,2n -T tmp  MVP_scores.txt > MVP_scores_sorted.txt\n",
    "gzip /data/hq2130/large_files/MVP_scores_sorted.txt"
   ]
  }
 ],
 "metadata": {
  "hide_input": false,
  "kernelspec": {
   "display_name": "Python 2",
   "language": "python",
   "name": "python2"
  },
  "language_info": {
   "codemirror_mode": {
    "name": "ipython",
    "version": 2
   },
   "file_extension": ".py",
   "mimetype": "text/x-python",
   "name": "python",
   "nbconvert_exporter": "python",
   "pygments_lexer": "ipython2",
   "version": "2.7.14"
  },
  "toc": {
   "toc_cell": false,
   "toc_number_sections": true,
   "toc_threshold": 6,
   "toc_window_display": false
  }
 },
 "nbformat": 4,
 "nbformat_minor": 2
}
