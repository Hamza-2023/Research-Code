{
 "cells": [
  {
   "cell_type": "markdown",
   "metadata": {
    "collapsed": true
   },
   "source": [
    "# load MVP model weight and get raw MVP predicetion score"
   ]
  },
  {
   "cell_type": "code",
   "execution_count": 1,
   "metadata": {},
   "outputs": [
    {
     "name": "stderr",
     "output_type": "stream",
     "text": [
      "Using TensorFlow backend.\n"
     ]
    },
    {
     "name": "stdout",
     "output_type": "stream",
     "text": [
      "this is a version 46 features in total, no RVIS no mis_badness !\n"
     ]
    }
   ],
   "source": [
    "from models import CNN_Model"
   ]
  },
  {
   "cell_type": "code",
   "execution_count": null,
   "metadata": {
    "collapsed": true,
    "run_control": {
     "marked": true
    },
    "scrolled": false
   },
   "outputs": [],
   "source": [
    "#folder_prefix = '0712_47fea_adj_synratio'\n",
    "prefix = 'HIS'\n",
    "\n",
    "weights_path = '../models/ResNet_HIS_best_weight.hdf5'\n",
    "exclude_cols = {'var_id', 'aaref', 'aaalt', 'target', 'Ensembl_transcriptid',\n",
    "                'ref', 'alt', 'category',\n",
    "                'source', 'INFO', 'disease', 'genename',\n",
    "                '#chr', 'pos(1-based)',  'hg19_chr', 'hg19_pos(1-based)',\n",
    "                'CADD_phred', '1000Gp3_AF', 'ExAC_AF', 'gnomad',\n",
    "                'RVIS', 'mis_badness', 'MPC', 'REVEL', 'domino'}\n",
    "\n",
    "\n",
    "fins = ['../data/case_control/asd.anno.rare.final.' + prefix + '.reformat.csv',\n",
    "        '../data/case_control/chd_yale.anno.rare.final.' + prefix + '.reformat.csv',\n",
    "        '../data/case_control/control_1911.anno.rare.final.' + prefix + '.reformat.csv',\n",
    "        '../data/metaSVM/metaSVM_varibench_discover.anno.rare.' + prefix + '.reformat.csv'']\n",
    "\n",
    "fouts = [f.split('.csv')[0] + '.cnn.csv' for f in fins]\n",
    "\n",
    "for fin, fout in zip(fins, fouts):\n",
    "    print fin, fout\n",
    "    model = CNN_Model_Mode(weights_path=weights_path,\n",
    "                           exclude_cols=exclude_cols,\n",
    "                           train_flag=False, verbose=1,\n",
    "                           fname=fin, f_out=fout)\n",
    "    model.pred()"
   ]
  },
  {
   "cell_type": "code",
   "execution_count": null,
   "metadata": {
    "collapsed": true
   },
   "outputs": [],
   "source": []
  }
 ],
 "metadata": {
  "hide_input": false,
  "kernelspec": {
   "display_name": "Python 2",
   "language": "python",
   "name": "python2"
  },
  "language_info": {
   "codemirror_mode": {
    "name": "ipython",
    "version": 2
   },
   "file_extension": ".py",
   "mimetype": "text/x-python",
   "name": "python",
   "nbconvert_exporter": "python",
   "pygments_lexer": "ipython2",
   "version": "2.7.14"
  },
  "toc": {
   "toc_cell": false,
   "toc_number_sections": true,
   "toc_threshold": 6,
   "toc_window_display": false
  }
 },
 "nbformat": 4,
 "nbformat_minor": 2
}
